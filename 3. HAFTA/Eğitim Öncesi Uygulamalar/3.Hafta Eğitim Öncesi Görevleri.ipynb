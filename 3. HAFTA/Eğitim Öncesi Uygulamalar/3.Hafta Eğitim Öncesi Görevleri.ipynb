{
  "cells": [
    {
      "cell_type": "markdown",
      "metadata": {
        "id": "tsD4YVAe_Te2"
      },
      "source": [
        "# Problem 1\n",
        "Bir sayının 7'ye bölünebilir olup olmadığını kontrol etmek \n",
        "için bir program yazın.\n",
        "\n",
        "İpucu: Mod operatörünü (%) kullanabilirsiniz."
      ]
    },
    {
      "cell_type": "code",
      "execution_count": 2,
      "metadata": {
        "id": "NGjvNwKx_Te7"
      },
      "outputs": [
        {
          "name": "stdout",
          "output_type": "stream",
          "text": [
            "bu sayı 7'ye bölünemez\n"
          ]
        }
      ],
      "source": [
        "# 1.Problemin Çözümünü Buraya Yazınız\n",
        "x=int(input(\"Bir sayı giriniz:\"))\n",
        "if x%7==0:\n",
        "    print (\"bu sayı 7'ye bölünebilir\")\n",
        "else:\n",
        "    print(\"bu sayı 7'ye bölünemez\")\n"
      ]
    },
    {
      "cell_type": "markdown",
      "metadata": {
        "id": "Kg3qiBAI_Te8"
      },
      "source": [
        "# Problem 2\n",
        "Kullanıcıdan vize ve final notu isteyin. Girilen vize notunun %40’ı ve \n",
        "girilen finalnotunun ise %60’ı alınarak yıl sonu not ortalaması hesaplanacaktır. \n",
        "\n",
        "Bu not ortalaması eğer 85 ve üzeri ise AA, \n",
        "\n",
        "75 ve 85 arasında ise BA, \n",
        "\n",
        "70 ve 75 arasında ise BB, \n",
        "\n",
        "65 ve 70 arasında ise CB,\n",
        "\n",
        "60 ve 65 arasında ise CC,\n",
        "\n",
        "55 ve 60 arasında ise DC,\n",
        "\n",
        "50 ve 55 arasında ise DD olarak hesaplanacaktır. \n",
        "\n",
        "Bu öğrencinin yıl sonu toplam notu 50’nin altında ise FF ile dersten kalacaktır. \n",
        "\n",
        "Ayrıca öğrencinin final notu 50’nin altında ise direkt FF ile kalacaktır."
      ]
    },
    {
      "cell_type": "code",
      "execution_count": 3,
      "metadata": {
        "id": "MXTtCxI1_Te8"
      },
      "outputs": [
        {
          "name": "stdout",
          "output_type": "stream",
          "text": [
            "Not Ortalamanız FF, dersten final notunuzun 50'nin altında olması nedeniyle dersten kaldınız.\n",
            "Yıl sonu not ortalamanız: 60.0\n"
          ]
        }
      ],
      "source": [
        "# 2.Problemin Çözümünü Buraya Yazınız\n",
        "vize=float(input(\"vize notunu giriniz:\"))\n",
        "final= float(input(\"final notunu giriniz:\"))\n",
        "yilSonuNotOrt=(0.4*vize)+(0.6*final)\n",
        "if final<50:\n",
        "    print(\"Not Ortalamanız FF, dersten final notunuzun 50'nin altında olması nedeniyle dersten kaldınız.\")\n",
        "elif 100>=yilSonuNotOrt>=85:\n",
        "    print(\"AA\")\n",
        "elif 85>yilSonuNotOrt>=75:\n",
        "    print (\"BA\")\n",
        "elif 75>yilSonuNotOrt>=70:\n",
        "    print(\"BB\")\n",
        "elif 70>yilSonuNotOrt>=65:\n",
        "    print(\"CB\")\n",
        "elif 65>yilSonuNotOrt>=60:\n",
        "    print(\"CC\") \n",
        "elif 60>yilSonuNotOrt>=55:\n",
        "    print(\"DC\")\n",
        "elif 55>yilSonuNotOrt>=50:\n",
        "    print(\"DD\")\n",
        "else:\n",
        "    print (\"Not Ortlamanız FF, dersten kaldınız.\")\n",
        "\n",
        "print(f\"Yıl sonu not ortalamanız: {yilSonuNotOrt}\")\n",
        "            \n",
        "\n"
      ]
    },
    {
      "cell_type": "markdown",
      "metadata": {
        "id": "tAoRYCTC_Te8"
      },
      "source": [
        "# Problem 3\n",
        "İki YetGenli Zirve'de karşılaşıyorlar. Birbirlerini tanımak için sorular soruyorlar. Birbirlerine yaşlarını soruyorlar. Akıllarına bir Python programı yazıp, yaşlarını ve isimlerini giriyorlar. Büyük olanın yaşını ekrana yazdıran programı yazıyorlar. Sende bu iki YetGenli'ye destek olmak ister misin?\n",
        "\n",
        "```\n",
        "Birinci YetGenlinin ismi: Ahmet\n",
        "Birinci YetGenlinin yaşı : 20\n",
        "İkinci YetGenlinin ismi: Mehmet\n",
        "İkinci YetGenlinin yaşı : 25\n",
        "Mehmet'in yaşı daha büyük ve yaşı 25'tir.\n",
        "```"
      ]
    },
    {
      "cell_type": "code",
      "execution_count": 11,
      "metadata": {
        "id": "bPjE8W0i_Te8"
      },
      "outputs": [
        {
          "name": "stdout",
          "output_type": "stream",
          "text": [
            "mehmet'in yaşı ahmet'ten büyük ve yaşı 25'tir.\n"
          ]
        }
      ],
      "source": [
        "# 3.Problemin Çözümünü Buraya Yazınız\n",
        "isim1=input(\"İsminizi giriniz:\")\n",
        "yas1=int(input(\"Yaşınızı giriniz:\"))\n",
        "isim2=input(\"İsminizi giriniz:\")\n",
        "yas2=int(input(\"Yaşınızı giriniz:\"))\n",
        "if yas1<yas2:\n",
        "    print(f\"{isim2}'in yaşı {isim1}'ten büyük ve yaşı {yas2}'tir.\")\n",
        "elif yas1>yas2:\n",
        "   print(f\"{isim1}'in yaşı {isim2}'ten büyük ve yaşı {yas1}'tir.\")\n",
        "\n",
        "    \n"
      ]
    },
    {
      "cell_type": "markdown",
      "metadata": {
        "id": "zBVv8Tyg_Te9"
      },
      "source": [
        "# Problem 4\n",
        "Pandemi döneminde AVM'lerde ateş ölçümü yapılıyor. AVM'ye giren kişinin ateş ölçümü 37.5 derecenin altında ise girişe izin veriliyor. 37.5 derecenin üstünde ise girişe izin verilmiyor. AVM'ye girişe izin verilip verilmediğini ekrana yazdıran bir program yazın.\n",
        "\n",
        "Program sonunda şöyle bir çıktı elde etmelisiniz:\n",
        "\n",
        "```\n",
        "Ateşiniz 37.5 derece. AVM'ye girebilirsin! Maske takmayı unutma!\n",
        "Ateşiniz 37.6 derece. AVM'ye giremezsin! Hemen evine dön!\n",
        "```"
      ]
    },
    {
      "cell_type": "code",
      "execution_count": 14,
      "metadata": {
        "id": "TSAXs8et_Te9"
      },
      "outputs": [
        {
          "name": "stdout",
          "output_type": "stream",
          "text": [
            "Ateşiniz 36.7. AVM'ye girebilirsiniz! Maske takmayı unutmayınız!\n"
          ]
        }
      ],
      "source": [
        "# 4.Problemin Çözümünü Buraya Yazınız\n",
        "\n",
        "atesDegeri=float(input(\"Ateşiniz ölçülüyor, lütfen bekleyiniz.\"))\n",
        "if atesDegeri<37.5:\n",
        "    print(f\"Ateşiniz {atesDegeri}. AVM'ye girebilirsiniz! Maske takmayı unutmayınız!\")\n",
        "elif atesDegeri>=37.5:\n",
        "    print (f\"Ateşiniz {atesDegeri}. AVM'ye giremezsiniz! Hemen eve dönünüz!\")\n"
      ]
    },
    {
      "cell_type": "markdown",
      "metadata": {
        "id": "6AEkZrDt_Te9"
      },
      "source": [
        "# Problem 5\n",
        "YetGen bir spor kulübüyle sponsorluk anlaşması yapıyor. Kulüp, sponsorluk anlaşmasına göre her YetGen liderinin beden kitle indeksini hesaplamak istiyor. Spor kulübü, beden kitle indeksini hesaplamak için YetGen Jump Python liderlerinden Berkcan ve Ahmet'i arıyor. Berkcan ve Ahmet, kulübe yardımcı olmak için bir Python programı yazıyorlar. Sende bu iki YetGen liderine destek olmak ister misin?\n",
        "\n",
        "Kullanıcıdan alınan boy ve kilo değerlerine göre beden kitle indeksini hesaplayın ve şu kurallara göre ekrana şu yazıları yazdırın.\n",
        "\n",
        "\n",
        "Beden Kitle İndeksi, kişinin ağırlığının (kg olarak) boyunun karesine (m olarak) bölünmesiyle hesaplanır.\n",
        "\n",
        "\n",
        "```\n",
        " BKİ 18.5'un altındaysa -------> Zayıf\n",
        "\n",
        " BKİ 18.5 ile 25 arasındaysa ------> Normal\n",
        "\n",
        " BKİ 25 ile 30 arasındaysa --------> Fazla Kilolu\n",
        "\n",
        " BKİ 30'un üstündeyse -------------> Obez\n",
        "```\n",
        "\n"
      ]
    },
    {
      "cell_type": "code",
      "execution_count": 19,
      "metadata": {
        "id": "t-XPI_u0_Te-"
      },
      "outputs": [
        {
          "name": "stdout",
          "output_type": "stream",
          "text": [
            "fazla kilolu\n"
          ]
        }
      ],
      "source": [
        "# 5.Problemin Çözümünü Buraya Yazınız\n",
        "\n",
        "boycm=int(input(\"Boy:\"))\n",
        "kilo=float(input(\"Kilo:\"))\n",
        "boym=boycm/100\n",
        "bki=kilo/((boym)**2)\n",
        "if bki<=18.5:\n",
        "    print(\"zayıf\")\n",
        "elif bki>18.5 and bki<=25:\n",
        "    print(\"normal\")\n",
        "elif bki>25 and bki<=30:\n",
        "    print(\"fazla kilolu\")\n",
        "else:\n",
        "    print(\"obez\")\n"
      ]
    },
    {
      "cell_type": "markdown",
      "metadata": {
        "id": "oFsvQyaO_Te-"
      },
      "source": [
        "# Problem 6\n",
        "Kullanıcıdan isim, yaş ve eğitim bilgilerini isteyip ehliyet alabilme  durumunu kontrol ediniz. \n",
        "\n",
        "Ehliyet alma koşulu en az 18 yaşında ve eğitim durumu lise ya da üniversite olmalıdır. "
      ]
    },
    {
      "cell_type": "code",
      "execution_count": 5,
      "metadata": {
        "id": "Tu2mcgco_Te-"
      },
      "outputs": [
        {
          "name": "stdout",
          "output_type": "stream",
          "text": [
            "ahmet yurt, yaşı 14. Eğitim durumu: ortaokul. Eğitim durumu ve yaşı nedeniyle ehliyet alamaz.\n"
          ]
        }
      ],
      "source": [
        "# 6.Problemin Çözümünü Buraya Yazınız\n",
        "\n",
        "isimsoyisim=input(\"İsim soyisim giriniz:\")\n",
        "yas=int(input(\"Yaşınızı giriniz:\"))\n",
        "egitim=input(\"Eğitim durumu:\")\n",
        "if yas>=18 and egitim==\"lise\" or egitim==\"üniversite\":\n",
        "    print (f\"{isimsoyisim}, yaşı {yas}. Eğitim durumu: {egitim}. Ehliyet alabilir.\")\n",
        "elif yas<18 and egitim==\"lise\":\n",
        "    print (f\"{isimsoyisim}, yaşı {yas}. Eğitim durumu: {egitim}. Yaşı nedeniyle ehliyet alamaz.\")\n",
        "elif yas>=18 and (egitim!=\"lise\" or egitim!=\"üniversite\"):\n",
        "    print (f\"{isimsoyisim}, yaşı {yas}. Eğitim durumu: {egitim}. Eğitim durumu nedeniyle ehliyet alamaz.\")\n",
        "elif yas<18 and egitim!=\"lise\" or egitim!=\"üniversite\":\n",
        "    print(f\"{isimsoyisim}, yaşı {yas}. Eğitim durumu: {egitim}. Eğitim durumu ve yaşı nedeniyle ehliyet alamaz.\")\n"
      ]
    },
    {
      "cell_type": "markdown",
      "metadata": {
        "id": "eUkxVSAE_Te_"
      },
      "source": [
        "# Problem 7\n",
        "Bir yılın artık yıl olup olmadığını kontrol etmek için bir program yazın. \n",
        "Artık yıl kuralı:\n",
        "\n",
        "a) Eğer yılın son iki basamağı (00) ile bitmiyor ve yalnızca 4'e tam bölünüyorsa artık yıldır. Ya da, \n",
        "\n",
        "b) Eğer yıl 400'e tam bölünüyorsa artık yıldır.\n",
        "\n",
        "**Örneğin**\n",
        "```\n",
        "2017 artık yıl değildir.\n",
        "1900 artık yıl değildir\n",
        "2012 artık yıldır.\n",
        "2000 artık yıldır.\n",
        "```"
      ]
    },
    {
      "cell_type": "code",
      "execution_count": 1,
      "metadata": {
        "id": "4uWh8qUL_Te_"
      },
      "outputs": [
        {
          "name": "stdout",
          "output_type": "stream",
          "text": [
            "1450 artık yıl değildir.\n"
          ]
        }
      ],
      "source": [
        "# 7.Problemin Çözümünü Buraya Yazınız\n",
        "\n",
        "##a\n",
        "yil=int(input(\"Yıl:\"))\n",
        "if (yil%100!=0 and yil%4==0) or (yil%400==0): \n",
        "    print(f\"{yil} artık yıldır.\")\n",
        "else:\n",
        "    print(f\"{yil} artık yıl değildir.\")\n",
        "\n",
        "\n"
      ]
    }
  ],
  "metadata": {
    "colab": {
      "provenance": []
    },
    "kernelspec": {
      "display_name": "Python 3.10.5 64-bit",
      "language": "python",
      "name": "python3"
    },
    "language_info": {
      "codemirror_mode": {
        "name": "ipython",
        "version": 3
      },
      "file_extension": ".py",
      "mimetype": "text/x-python",
      "name": "python",
      "nbconvert_exporter": "python",
      "pygments_lexer": "ipython3",
      "version": "3.12.3"
    },
    "orig_nbformat": 4,
    "vscode": {
      "interpreter": {
        "hash": "5026d2d6e7aaaaba093def813beadff083d8733e4a511af01735cbabd156995d"
      }
    }
  },
  "nbformat": 4,
  "nbformat_minor": 0
}
