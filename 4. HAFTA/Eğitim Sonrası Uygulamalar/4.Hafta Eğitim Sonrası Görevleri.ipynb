{
 "cells": [
  {
   "cell_type": "markdown",
   "metadata": {},
   "source": [
    "# Problem 1\n",
    "`ogrenciler` adında bir sözlük oluşturunuz. Kullanıcıdan döngü yardımıyla 3 öğrenci için veri girmesini isteyerek öğrencilerin sırasıyla okul numarası, isim, soy isim, telefon numarası ve doğum tarihi bilgilerini alınız. Aldığınız öğrenci bilgilerini yine aynı döngü yardımıyla `ogrenciler` adındaki sözlükte saklayınız. Daha sonra öğrenci bilgilerinin bulunduğu sözlük yapısını ekrana bastırınız.\n",
    "\n"
   ]
  },
  {
   "cell_type": "code",
   "execution_count": 3,
   "metadata": {},
   "outputs": [
    {
     "name": "stdout",
     "output_type": "stream",
     "text": [
      "{1: {'okul numarası': 524, 'isim': 'ahmet', 'soyisim': 'yurt', 'telefon numarası': '524 354 0214', 'doğum tarihi': '12/02/2002'}, 2: {'okul numarası': 254, 'isim': 'yasemin ', 'soyisim': 'kale', 'telefon numarası': '542 021 4587', 'doğum tarihi': '21/03/2003'}, 3: {'okul numarası': 14, 'isim': 'tuğba', 'soyisim': 'kuleli', 'telefon numarası': '541 254 0221', 'doğum tarihi': '25/07/2001'}}\n"
     ]
    }
   ],
   "source": [
    "# 1.Problemin Çözümünü Buraya Yazınız\n",
    "\n",
    "\n",
    "ogrenciler={}\n",
    "for i in range(1,4):\n",
    "    okulno=int(input(\"öğrencinizin okul numarasını giriniz:\"))\n",
    "    isim=input(\"öğrencinizin ismini giriniz:\")\n",
    "    soyisim=input(\"öğrencinizin soyismini giriniz:\")\n",
    "    telno=input(\"öğrencinizin telefon numarasını giriniz:\")\n",
    "    dogumtarihi=input(\"öğrencinizin doğum tarihini gün/ay/yıl olarak giriniz:\")\n",
    "    ogrencibilgileri={\n",
    "    \"okul numarası\": okulno,\n",
    "    \"isim\": isim,\n",
    "    \"soyisim\": soyisim,\n",
    "    \"telefon numarası\": telno,\n",
    "    \"doğum tarihi\": dogumtarihi\n",
    "    }\n",
    "    ogrenciler[i]=ogrencibilgileri\n",
    "print(ogrenciler)\n",
    "\n"
   ]
  },
  {
   "cell_type": "markdown",
   "metadata": {},
   "source": [
    "# Problem 2\n",
    "\n",
    "### a - Biraz ısınarak başlayalım!\n",
    "\n",
    "```\n",
    "numbers = [5,10,10,15,15,15,20,20,20,20]\n",
    "```\n",
    "\n",
    "Yukarıda `numbers` adında 10 elemanlı bir liste verilmiştir. Bu listenin her elemanını kontrol eden ve tekrar eden elemanları bir kez olacak şekilde başka bir listeye kopyalayan bir program yazınız. Son olarak oluşturduğunuz listeyi ekrana bastırınız.\n",
    "\n",
    "\n",
    "\n",
    "\n",
    "```\n",
    ">Output\n",
    "[5, 10, 15, 20]\n",
    "```\n"
   ]
  },
  {
   "cell_type": "code",
   "execution_count": 4,
   "metadata": {},
   "outputs": [
    {
     "name": "stdout",
     "output_type": "stream",
     "text": [
      "[5, 10, 15, 20]\n"
     ]
    }
   ],
   "source": [
    "# 2.Problemin a Şıkkının Çözümünü Buraya Yazınız\n",
    "\n",
    "numbers = [5,10,10,15,15,15,20,20,20,20]\n",
    "unique=[]\n",
    "for i in numbers:\n",
    "    if i in unique:\n",
    "        continue\n",
    "    else:\n",
    "        unique.append(i)\n",
    "print(unique)\n"
   ]
  },
  {
   "cell_type": "markdown",
   "metadata": {},
   "source": [
    "### 🌶️ b) Hadi işi biraz daha zorlaştıralım! \n",
    "\n",
    "\n",
    "Şimdiyse senden `numbers` isimli listedeki tekrar eden elemanları `repeatNumbers` adındaki listeye; tekrar etmeyen elemanları `uniqueNumbers`adındaki listeye kopyalayan yazmanı ve listeleri ekrana bastırmanı bekliyoruz\n",
    "\n",
    "```\n",
    ">Output\n",
    "Tekrar Eden Elemanlar: [10, 10, 15, 15, 15, 20, 20, 20, 20]\n",
    "Tekrar Etmeyen Elemanlar: [5]\n",
    "```"
   ]
  },
  {
   "cell_type": "code",
   "execution_count": 5,
   "metadata": {},
   "outputs": [
    {
     "name": "stdout",
     "output_type": "stream",
     "text": [
      "tekrar eden elemanlar: [10, 10, 15, 15, 15, 20, 20, 20, 20]\n",
      "tekrar etmeyenler:[5]\n"
     ]
    }
   ],
   "source": [
    "# 2.Problemin b Şıkkının Çözümünü Buraya Yazınız\n",
    "\n",
    "numbers = [5,10,10,15,15,15,20,20,20,20]\n",
    "unique=[]\n",
    "repeat=[]\n",
    "\n",
    "for i in numbers:\n",
    "    if numbers.count(i)==1:\n",
    "        unique.append(i)\n",
    "    else:\n",
    "        repeat.append(i)\n",
    "print(f\"tekrar eden elemanlar: {repeat}\")\n",
    "print(f\"tekrar etmeyenler:{unique}\")\n"
   ]
  },
  {
   "cell_type": "markdown",
   "metadata": {},
   "source": [
    "# Problem 3\n",
    "sn1 = {1,2,3,4,5}\n",
    "\n",
    "sn2 = {4,5,6,7,8}\n",
    "\n",
    " Verilen 2 adet küme için kesişimlerini, farklarını ve birleşimlerini bulunuz. "
   ]
  },
  {
   "cell_type": "code",
   "execution_count": 10,
   "metadata": {},
   "outputs": [
    {
     "name": "stdout",
     "output_type": "stream",
     "text": [
      "{4, 5}\n",
      "sn1'in sn2'den farklı elemanları: {1, 2, 3}\n",
      "sn2'nin sn1'den farklı elemanları: {8, 6, 7}\n",
      "{1, 2, 3, 4, 5, 6, 7, 8}\n"
     ]
    }
   ],
   "source": [
    "# 3.Problemin Çözümünü Buraya Yazınız\n",
    "\n",
    "sn1={1,2,3,4,5}\n",
    "sn2={4,5,6,7,8}\n",
    "kesisim=sn1.intersection(sn2)\n",
    "print(kesisim)\n",
    "\n",
    "fark1=sn1.difference(sn2)\n",
    "print(f\"sn1'in sn2'den farklı elemanları: {fark1}\")\n",
    "fark2=sn2.difference(sn1)\n",
    "print(f\"sn2'nin sn1'den farklı elemanları: {fark2}\")\n",
    "\n",
    "birlesim=sn1.union(sn2)\n",
    "print(birlesim)\n",
    "\n"
   ]
  },
  {
   "cell_type": "markdown",
   "metadata": {},
   "source": [
    "# Problem 4\n",
    "\n",
    "Buradaki işlemlerimizin tamamı stringler içindir. Aşağıda verilecek olan metodlar için kendinizin örnek yaratması gerekmektedir. \n",
    "\n",
    "Örneğin `upper` için `string` değişkeni oluştururken` k = \"BAC\"` şeklinde oluşturmayınız. Bunun yerine k değişkenini `k = \"bac`\" şeklinde oluşturmanız `upper` metodundaki değişimi görebilmeniz için daha iyi olacaktır.\n",
    "\n",
    "Bütün metodlardaki değişimin gözle görülür şekilde değişimi beklenmektedir.\n",
    "\n",
    "\n",
    "1- capitalize(), lower(), upper(), swapcase(), title(), replace()\n",
    "\n",
    "2- endswith(), startswith(), find(), index(), count()\n",
    "\n",
    "3- split(), strip(), join(), islower(), isalpha(), isdigit()\n",
    "\n",
    "\n",
    "Yukarıdaki `string` metodlarındaki değişimleri görebildiğimiz bir program yazınız.\n"
   ]
  },
  {
   "cell_type": "code",
   "execution_count": 25,
   "metadata": {},
   "outputs": [
    {
     "data": {
      "text/plain": [
       "'Kalem'"
      ]
     },
     "execution_count": 25,
     "metadata": {},
     "output_type": "execute_result"
    }
   ],
   "source": [
    "# 4.Problemin Çözümünü Buraya Yazınız\n",
    "\n",
    "a=\"kalem\"\n",
    "a.capitalize()"
   ]
  },
  {
   "cell_type": "code",
   "execution_count": 26,
   "metadata": {},
   "outputs": [
    {
     "data": {
      "text/plain": [
       "'kale'"
      ]
     },
     "execution_count": 26,
     "metadata": {},
     "output_type": "execute_result"
    }
   ],
   "source": [
    "a.replace(\"m\",\"\")"
   ]
  },
  {
   "cell_type": "code",
   "execution_count": 22,
   "metadata": {},
   "outputs": [
    {
     "data": {
      "text/plain": [
       "'kağit'"
      ]
     },
     "execution_count": 22,
     "metadata": {},
     "output_type": "execute_result"
    }
   ],
   "source": [
    "b=\"KAĞIT\"\n",
    "b.lower()\n"
   ]
  },
  {
   "cell_type": "code",
   "execution_count": 23,
   "metadata": {},
   "outputs": [
    {
     "data": {
      "text/plain": [
       "'TÜKENMEZ KALEM'"
      ]
     },
     "execution_count": 23,
     "metadata": {},
     "output_type": "execute_result"
    }
   ],
   "source": [
    "c=\"tükenmez kalem\"\n",
    "c.upper()"
   ]
  },
  {
   "cell_type": "code",
   "execution_count": 24,
   "metadata": {},
   "outputs": [
    {
     "data": {
      "text/plain": [
       "'lApToP'"
      ]
     },
     "execution_count": 24,
     "metadata": {},
     "output_type": "execute_result"
    }
   ],
   "source": [
    "d=\"LaPtOp\"\n",
    "d.swapcase()"
   ]
  },
  {
   "cell_type": "code",
   "execution_count": 27,
   "metadata": {},
   "outputs": [
    {
     "data": {
      "text/plain": [
       "'Salonumuza Hoş Geldiniz'"
      ]
     },
     "execution_count": 27,
     "metadata": {},
     "output_type": "execute_result"
    }
   ],
   "source": [
    "e=\"Salonumuza hoş geldiniz\"\n",
    "e.title()"
   ]
  },
  {
   "cell_type": "code",
   "execution_count": 13,
   "metadata": {},
   "outputs": [
    {
     "name": "stdout",
     "output_type": "stream",
     "text": [
      "True\n",
      "True\n",
      "10\n",
      "5\n",
      "3\n"
     ]
    }
   ],
   "source": [
    "x=\"kutu açılımı\"\n",
    "print(x.startswith(\"kutu\"))\n",
    "print(x.endswith(\"ı\"))\n",
    "print(x.find(\"m\"))\n",
    "print(x.index(\"a\"))\n",
    "print(x.count(\"ı\") )"
   ]
  },
  {
   "cell_type": "code",
   "execution_count": 5,
   "metadata": {},
   "outputs": [
    {
     "name": "stdout",
     "output_type": "stream",
     "text": [
      "YetGen Core Eğitimi\n",
      "False\n",
      "False\n",
      "False\n",
      "['YetGen', 'Core', \"Eğitimi'ne\", 'Hoş', 'Geldiniz']\n",
      "Y,e,t,G,e,n, ,C,o,r,e, ,E,ğ,i,t,i,m,i,',n,e, ,H,o,ş, ,G,e,l,d,i,n,i,z\n"
     ]
    }
   ],
   "source": [
    "y=\"   YetGen Core Eğitimi\"\n",
    "print(y.strip())\n",
    "print(y.isalpha())\n",
    "print(y.isdigit())\n",
    "print(y.islower())\n",
    "\n",
    "\n",
    "h=\"YetGen Core Eğitimi'ne Hoş Geldiniz\"\n",
    "print(h.split(\" \"))\n",
    "print(\",\".join(h))"
   ]
  }
 ],
 "metadata": {
  "kernelspec": {
   "display_name": "Python 3.10.5 64-bit",
   "language": "python",
   "name": "python3"
  },
  "language_info": {
   "codemirror_mode": {
    "name": "ipython",
    "version": 3
   },
   "file_extension": ".py",
   "mimetype": "text/x-python",
   "name": "python",
   "nbconvert_exporter": "python",
   "pygments_lexer": "ipython3",
   "version": "3.12.3"
  },
  "orig_nbformat": 4,
  "vscode": {
   "interpreter": {
    "hash": "5026d2d6e7aaaaba093def813beadff083d8733e4a511af01735cbabd156995d"
   }
  }
 },
 "nbformat": 4,
 "nbformat_minor": 2
}
